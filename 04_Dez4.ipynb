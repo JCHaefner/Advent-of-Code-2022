{
 "cells": [
  {
   "cell_type": "code",
   "execution_count": 1,
   "metadata": {},
   "outputs": [],
   "source": [
    "# Dez. 4 (Camp Cleanup): In how many assignment pairs does one range fully contain the other?\n",
    "\n",
    "import numpy as np"
   ]
  },
  {
   "cell_type": "code",
   "execution_count": 24,
   "metadata": {},
   "outputs": [],
   "source": [
    "sections_list = np.genfromtxt(\"Sections_list.txt\",dtype='str')\n",
    "\n",
    "split_sections = np.array([n.split(',') for n in sections_list])\n",
    "\n",
    "split_numbers = np.array([[n[0].split('-'),n[1].split('-')] for n in split_sections])\n",
    "split_numbers = split_numbers.astype(int)"
   ]
  },
  {
   "cell_type": "code",
   "execution_count": 25,
   "metadata": {},
   "outputs": [
    {
     "name": "stdout",
     "output_type": "stream",
     "text": [
      "526\n"
     ]
    }
   ],
   "source": [
    "contain_count = 0\n",
    "\n",
    "for n in split_numbers:\n",
    "    if n[0][0] >= n[1][0] and n[0][1] <= n[1][1]:\n",
    "        contain_count += 1\n",
    "    elif n[0][0] <= n[1][0] and n[0][1] >= n[1][1]:\n",
    "        contain_count += 1\n",
    "    else:\n",
    "        continue\n",
    "\n",
    "print(contain_count)"
   ]
  },
  {
   "cell_type": "code",
   "execution_count": 30,
   "metadata": {},
   "outputs": [
    {
     "name": "stdout",
     "output_type": "stream",
     "text": [
      "114\n",
      "886\n"
     ]
    }
   ],
   "source": [
    "# 5-7,7-9 overlap\n",
    "# 5-8,7-9 overlap\n",
    "# 7-9,5-7 overlap\n",
    "# 7-9,5-8 overlap\n",
    "# 1-7,8-9 no overlap\n",
    "# 8-9,1-7 no overlap\n",
    "\n",
    "\n",
    "no_overlap_count = 0\n",
    "\n",
    "for n in split_numbers:\n",
    "    if n[0][0] < n[1][0] and n[0][1] < n[1][1] and n[0][1] < n[1][0]:\n",
    "        no_overlap_count += 1\n",
    "    elif n[0][0] > n[1][0] and n[0][1] > n[1][1] and n[0][0] > n[1][1]:\n",
    "        no_overlap_count += 1\n",
    "    else:\n",
    "        continue\n",
    "\n",
    "# number of sections that don't overlap\n",
    "print(no_overlap_count)\n",
    "\n",
    "# number of sections that do overlap\n",
    "print(len(sections_list) - no_overlap_count)"
   ]
  }
 ],
 "metadata": {
  "kernelspec": {
   "display_name": "Python 3 (ipykernel)",
   "language": "python",
   "name": "python3"
  },
  "language_info": {
   "codemirror_mode": {
    "name": "ipython",
    "version": 3
   },
   "file_extension": ".py",
   "mimetype": "text/x-python",
   "name": "python",
   "nbconvert_exporter": "python",
   "pygments_lexer": "ipython3",
   "version": "3.11.2"
  }
 },
 "nbformat": 4,
 "nbformat_minor": 2
}
