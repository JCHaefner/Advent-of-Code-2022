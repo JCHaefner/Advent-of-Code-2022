{
 "cells": [
  {
   "cell_type": "code",
   "execution_count": 11,
   "metadata": {},
   "outputs": [],
   "source": [
    "# Dez. 2 (Rock Paper Scissors): What would your total score be if everything goes exactly according to your strategy guide?\n",
    "\n",
    "import numpy as np"
   ]
  },
  {
   "cell_type": "code",
   "execution_count": 12,
   "metadata": {},
   "outputs": [],
   "source": [
    "strategy = np.genfromtxt('Strategy_guide.txt',dtype='str')"
   ]
  },
  {
   "cell_type": "code",
   "execution_count": 13,
   "metadata": {},
   "outputs": [],
   "source": [
    "# A, X = rock\n",
    "# B, Y = paper\n",
    "# C, Z = scissors\n",
    "\n",
    "# rock = 1\n",
    "# paper = 2\n",
    "# scissors = 3\n",
    "\n",
    "# lose = 0\n",
    "# draw = 3\n",
    "# win = 6\n",
    "\n",
    "##########################\n",
    "\n",
    "# rock rock = draw\n",
    "# paper paper = draw\n",
    "# scissors scissors = draw\n",
    "\n",
    "# rock paper = win\n",
    "# paper rock = lose\n",
    "\n",
    "# rock scissors = lose\n",
    "# scissors rock = win\n",
    "\n",
    "# paper scissors = win\n",
    "# scissors paper = lose"
   ]
  },
  {
   "cell_type": "code",
   "execution_count": 14,
   "metadata": {},
   "outputs": [],
   "source": [
    "rock = 1\n",
    "paper = 2\n",
    "scissors = 3\n",
    "\n",
    "lose = 0\n",
    "draw = 3\n",
    "win = 6\n",
    "\n",
    "score_1 = 0\n",
    "score_2 = 0\n",
    "\n",
    "for one_round in strategy:\n",
    "    \n",
    "    if one_round[0] == 'A':\n",
    "        score_1 += rock\n",
    "        \n",
    "    elif one_round[0] == 'B':\n",
    "        score_1 += paper\n",
    "        \n",
    "    elif one_round[0] == 'C':\n",
    "        score_1 += scissors\n",
    "\n",
    "    if one_round[1] == 'X':\n",
    "        score_2 += rock\n",
    "        \n",
    "    elif one_round[1] == 'Y':\n",
    "        score_2 += paper\n",
    "        \n",
    "    elif one_round[1] == 'Z':\n",
    "        score_2 += scissors\n",
    "        \n",
    "        \n",
    "    if one_round[0] == 'A' and one_round[1] == 'X':\n",
    "        score_1 += draw\n",
    "        score_2 += draw\n",
    "        \n",
    "    elif one_round[0] == 'B' and one_round[1] == 'Y':\n",
    "        score_1 += draw\n",
    "        score_2 += draw\n",
    "        \n",
    "    elif one_round[0] == 'C' and one_round[1] == 'Z':\n",
    "        score_1 += draw\n",
    "        score_2 += draw\n",
    "        \n",
    "    elif one_round[0] == 'A' and one_round[1] == 'Y':\n",
    "        # rock paper\n",
    "        score_1 += lose\n",
    "        score_2 += win\n",
    "        \n",
    "    elif one_round[0] == 'B' and one_round[1] == 'X':\n",
    "        # paper rock\n",
    "        score_1 += win\n",
    "        score_2 += lose\n",
    "        \n",
    "    elif one_round[0] == 'A' and one_round[1] == 'Z':\n",
    "        # rock scissors\n",
    "        score_1 += win\n",
    "        score_2 += lose\n",
    "        \n",
    "    elif one_round[0] == 'C' and one_round[1] == 'X':\n",
    "        # scissors rock\n",
    "        score_1 += lose\n",
    "        score_2 += win\n",
    "        \n",
    "    elif one_round[0] == 'B' and one_round[1] == 'Z':\n",
    "        # paper scissors\n",
    "        score_1 += lose\n",
    "        score_2 += win\n",
    "        \n",
    "    elif one_round[0] == 'C' and one_round[1] == 'Y':\n",
    "        # scissors paper\n",
    "        score_1 += win\n",
    "        score_2 += lose"
   ]
  },
  {
   "cell_type": "code",
   "execution_count": 15,
   "metadata": {},
   "outputs": [
    {
     "name": "stdout",
     "output_type": "stream",
     "text": [
      "11368\n",
      "13009\n"
     ]
    }
   ],
   "source": [
    "print(score_1)\n",
    "print(score_2)"
   ]
  },
  {
   "cell_type": "code",
   "execution_count": null,
   "metadata": {},
   "outputs": [],
   "source": [
    "# X = lose\n",
    "# Y = draw\n",
    "# Z = win"
   ]
  },
  {
   "cell_type": "code",
   "execution_count": 16,
   "metadata": {},
   "outputs": [],
   "source": [
    "score_1 = 0\n",
    "score_2 = 0\n",
    "\n",
    "for one_round in strategy:\n",
    "    \n",
    "    if one_round[0] == 'A':\n",
    "        score_1 += rock\n",
    "        \n",
    "    elif one_round[0] == 'B':\n",
    "        score_1 += paper\n",
    "        \n",
    "    elif one_round[0] == 'C':\n",
    "        score_1 += scissors\n",
    "        \n",
    "        \n",
    "    if one_round[0] == 'A' and one_round[1] == 'X':\n",
    "        # lose for rock -> pick scissors\n",
    "        score_1 += win\n",
    "        score_2 += lose\n",
    "        score_2 += scissors\n",
    "        \n",
    "    elif one_round[0] == 'B' and one_round[1] == 'Y':\n",
    "        # draw for paper -> pick paper\n",
    "        score_1 += draw\n",
    "        score_2 += draw\n",
    "        score_2 += paper\n",
    "        \n",
    "    elif one_round[0] == 'C' and one_round[1] == 'Z':\n",
    "        # win for scissors -> pick rock\n",
    "        score_1 += lose\n",
    "        score_2 += win\n",
    "        score_2 += rock\n",
    "        \n",
    "    elif one_round[0] == 'A' and one_round[1] == 'Y':\n",
    "        # draw for rock -> pick rock\n",
    "        score_1 += draw\n",
    "        score_2 += draw\n",
    "        score_2 += rock\n",
    "        \n",
    "    elif one_round[0] == 'B' and one_round[1] == 'X':\n",
    "        # lose for paper -> pick rock\n",
    "        score_1 += win\n",
    "        score_2 += lose\n",
    "        score_2 += rock\n",
    "        \n",
    "    elif one_round[0] == 'A' and one_round[1] == 'Z':\n",
    "        # win for rock -> pick paper\n",
    "        score_1 += lose\n",
    "        score_2 += win\n",
    "        score_2 += paper\n",
    "        \n",
    "    elif one_round[0] == 'C' and one_round[1] == 'X':\n",
    "        # lose for scissors -> pick paper\n",
    "        score_1 += win\n",
    "        score_2 += lose\n",
    "        score_2 += paper\n",
    "        \n",
    "    elif one_round[0] == 'B' and one_round[1] == 'Z':\n",
    "        # win for paper -> pick scissors\n",
    "        score_1 += lose\n",
    "        score_2 += win\n",
    "        score_2 += scissors\n",
    "        \n",
    "    elif one_round[0] == 'C' and one_round[1] == 'Y':\n",
    "        # draw for scissors -> pick scissors\n",
    "        score_1 += draw\n",
    "        score_2 += draw\n",
    "        score_2 += scissors"
   ]
  },
  {
   "cell_type": "code",
   "execution_count": 17,
   "metadata": {},
   "outputs": [
    {
     "name": "stdout",
     "output_type": "stream",
     "text": [
      "14593\n",
      "10398\n"
     ]
    }
   ],
   "source": [
    "print(score_1)\n",
    "print(score_2)"
   ]
  }
 ],
 "metadata": {
  "kernelspec": {
   "display_name": "Python 3 (ipykernel)",
   "language": "python",
   "name": "python3"
  },
  "language_info": {
   "codemirror_mode": {
    "name": "ipython",
    "version": 3
   },
   "file_extension": ".py",
   "mimetype": "text/x-python",
   "name": "python",
   "nbconvert_exporter": "python",
   "pygments_lexer": "ipython3",
   "version": "3.11.2"
  }
 },
 "nbformat": 4,
 "nbformat_minor": 2
}
