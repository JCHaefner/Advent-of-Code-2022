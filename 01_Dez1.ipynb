{
 "cells": [
  {
   "cell_type": "code",
   "execution_count": 81,
   "metadata": {},
   "outputs": [],
   "source": [
    "# Dez. 1 (Calorie Counting): Find the Elf carrying the most Calories. How many total Calories is that Elf carrying?\n",
    "\n",
    "import numpy as np"
   ]
  },
  {
   "cell_type": "code",
   "execution_count": 82,
   "metadata": {
    "scrolled": true
   },
   "outputs": [],
   "source": [
    "calorie_list = []\n",
    "\n",
    "with open(\"Calorie_inventory.txt\") as file:\n",
    "    lines = file.readlines()\n",
    "    for line in lines:\n",
    "        if line == '\\n':\n",
    "            calorie_list.append('Nan')\n",
    "        else:\n",
    "            calorie_list.append(np.float(line))\n",
    "\n",
    "calorie_strings = np.array(calorie_list)\n",
    "indices = np.squeeze(np.array(np.where(calorie_strings == 'Nan')))"
   ]
  },
  {
   "cell_type": "code",
   "execution_count": 83,
   "metadata": {},
   "outputs": [
    {
     "name": "stdout",
     "output_type": "stream",
     "text": [
      "70509.0\n",
      "208567.0\n"
     ]
    }
   ],
   "source": [
    "sum_list = []\n",
    "for i in range(len(indices)):\n",
    "    if i == 0:\n",
    "        one_elf = sum(calorie_strings[0:indices[0]].astype(np.float))\n",
    "        sum_list.append(one_elf)\n",
    "    elif i == 239:\n",
    "        one_elf = sum(calorie_strings[indices[239]+1:-1].astype(np.float))\n",
    "        sum_list.append(one_elf)\n",
    "    else:\n",
    "        one_elf = sum(calorie_strings[indices[i]+1:indices[i+1]].astype(np.float))\n",
    "        sum_list.append(one_elf)\n",
    "        \n",
    "sum_list_sorted = np.sort(sum_list)\n",
    "print(max(sum_list))\n",
    "print(sum_list_sorted[-1] + sum_list_sorted[-2] + sum_list_sorted[-3])"
   ]
  }
 ],
 "metadata": {
  "kernelspec": {
   "display_name": "Python 3 (ipykernel)",
   "language": "python",
   "name": "python3"
  },
  "language_info": {
   "codemirror_mode": {
    "name": "ipython",
    "version": 3
   },
   "file_extension": ".py",
   "mimetype": "text/x-python",
   "name": "python",
   "nbconvert_exporter": "python",
   "pygments_lexer": "ipython3",
   "version": "3.11.2"
  }
 },
 "nbformat": 4,
 "nbformat_minor": 2
}
