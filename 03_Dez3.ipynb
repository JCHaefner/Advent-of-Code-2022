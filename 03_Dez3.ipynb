{
 "cells": [
  {
   "cell_type": "code",
   "execution_count": 65,
   "metadata": {},
   "outputs": [],
   "source": [
    "# Dez. 3 (Rucksack Reorganization): Find the item type that appears in both compartments of each rucksack.\n",
    "#                                   What is the sum of the priorities of those item types?\n",
    "\n",
    "import numpy as np"
   ]
  },
  {
   "cell_type": "code",
   "execution_count": 76,
   "metadata": {},
   "outputs": [
    {
     "name": "stdout",
     "output_type": "stream",
     "text": [
      "300\n"
     ]
    }
   ],
   "source": [
    "rucksacks = np.genfromtxt(\"Rucksack_contents.txt\",dtype='str')\n",
    "print(len(rucksacks))"
   ]
  },
  {
   "cell_type": "code",
   "execution_count": 67,
   "metadata": {},
   "outputs": [],
   "source": [
    "half_indices = np.array([len(n)/2 for n in rucksacks])\n",
    "half_indices = half_indices.astype(int)\n",
    "\n",
    "split_rucksacks = np.array([[rucksacks[i][0:half_indices[i]],rucksacks[i][half_indices[i]:]] for i in range(len(rucksacks))])"
   ]
  },
  {
   "cell_type": "code",
   "execution_count": 68,
   "metadata": {},
   "outputs": [],
   "source": [
    "common_items = np.array([set(n[0]).intersection(set(n[1])) for n in split_rucksacks])\n",
    "common_items = np.array([str(n) for n in common_items])\n",
    "common_items = np.array([n[2:-2] for n in common_items])"
   ]
  },
  {
   "cell_type": "code",
   "execution_count": 69,
   "metadata": {},
   "outputs": [],
   "source": [
    "alphabet_list_lower = ['a','b','c','d','e','f','g','h','i','j','k','l','m','n','o','p','q','r','s','t','u','v','w','x','y','z']\n",
    "alphabet_list_upper = [n.upper() for n in alphabet_list_lower]\n",
    "alphabet_list = alphabet_list_lower + alphabet_list_upper"
   ]
  },
  {
   "cell_type": "code",
   "execution_count": 70,
   "metadata": {},
   "outputs": [
    {
     "name": "stdout",
     "output_type": "stream",
     "text": [
      "7568\n"
     ]
    }
   ],
   "source": [
    "priorities = np.array([alphabet_list.index(n)+1 for n in common_items])\n",
    "print(sum(priorities))"
   ]
  },
  {
   "cell_type": "code",
   "execution_count": 86,
   "metadata": {},
   "outputs": [
    {
     "name": "stdout",
     "output_type": "stream",
     "text": [
      "2780\n"
     ]
    }
   ],
   "source": [
    "# 100 3-groups for 300 rucksacks\n",
    "groups = np.split(rucksacks, 100)\n",
    "\n",
    "group_badges = np.array([set(n[0]).intersection(set(n[1])).intersection(set(n[2])) for n in groups])\n",
    "group_badges = np.array([str(n) for n in group_badges])\n",
    "group_badges = np.array([n[2:-2] for n in group_badges])\n",
    "\n",
    "badge_priorities = np.array([alphabet_list.index(n)+1 for n in group_badges])\n",
    "print(sum(badge_priorities))"
   ]
  }
 ],
 "metadata": {
  "kernelspec": {
   "display_name": "Python 3 (ipykernel)",
   "language": "python",
   "name": "python3"
  },
  "language_info": {
   "codemirror_mode": {
    "name": "ipython",
    "version": 3
   },
   "file_extension": ".py",
   "mimetype": "text/x-python",
   "name": "python",
   "nbconvert_exporter": "python",
   "pygments_lexer": "ipython3",
   "version": "3.11.2"
  }
 },
 "nbformat": 4,
 "nbformat_minor": 2
}
