{
 "cells": [
  {
   "cell_type": "code",
   "execution_count": 1,
   "metadata": {},
   "outputs": [],
   "source": [
    "# Dez. 5 (Supply Stacks): After the rearrangement procedure completes, what crate ends up on top of each stack?\n",
    "\n",
    "import numpy as np"
   ]
  },
  {
   "cell_type": "code",
   "execution_count": 28,
   "metadata": {},
   "outputs": [],
   "source": [
    "stack_1 = ['Z','J','N','W','P','S']\n",
    "stack_2 = ['G','S','T']\n",
    "stack_3 = ['V','Q','R','L','H']\n",
    "stack_4 = ['V','S','T','D']\n",
    "stack_5 = ['Q','Z','T','D','B','M','J']\n",
    "stack_6 = ['M','W','T','J','D','C','Z','L']\n",
    "stack_7 = ['L','P','M','W','G','T','J']\n",
    "stack_8 = ['N','G','M','T','B','F','Q','H']\n",
    "stack_9 = ['R','D','G','C','P','B','Q','W']\n",
    "\n",
    "stacks = np.array([stack_1,stack_2,stack_3,stack_4,stack_5,stack_6,stack_7,stack_8,stack_9])\n",
    "\n",
    "plan = np.genfromtxt(\"Crate_plan.txt\",dtype='str')\n",
    "\n",
    "plan_numbers = np.array([[n[1],n[3],n[5]] for n in plan]).astype(int)"
   ]
  },
  {
   "cell_type": "code",
   "execution_count": 29,
   "metadata": {},
   "outputs": [
    {
     "name": "stdout",
     "output_type": "stream",
     "text": [
      "M\n",
      "Q\n",
      "T\n",
      "P\n",
      "G\n",
      "L\n",
      "L\n",
      "D\n",
      "N\n"
     ]
    }
   ],
   "source": [
    "# remove one crate at a time\n",
    "\n",
    "# n[0] number of picks\n",
    "# n[1] number of stack removed\n",
    "# n[2] number of stack added\n",
    "\n",
    "for n in plan_numbers:\n",
    "    for i in range(n[0]):\n",
    "        stacks[n[2]-1].append(stacks[n[1]-1][-1])\n",
    "        stacks[n[1]-1] = stacks[n[1]-1][:-1]\n",
    "\n",
    "for n in stacks:\n",
    "    print(n[-1])"
   ]
  },
  {
   "cell_type": "code",
   "execution_count": 31,
   "metadata": {},
   "outputs": [],
   "source": [
    "stack_1 = ['Z','J','N','W','P','S']\n",
    "stack_2 = ['G','S','T']\n",
    "stack_3 = ['V','Q','R','L','H']\n",
    "stack_4 = ['V','S','T','D']\n",
    "stack_5 = ['Q','Z','T','D','B','M','J']\n",
    "stack_6 = ['M','W','T','J','D','C','Z','L']\n",
    "stack_7 = ['L','P','M','W','G','T','J']\n",
    "stack_8 = ['N','G','M','T','B','F','Q','H']\n",
    "stack_9 = ['R','D','G','C','P','B','Q','W']\n",
    "\n",
    "stacks = np.array([stack_1,stack_2,stack_3,stack_4,stack_5,stack_6,stack_7,stack_8,stack_9])"
   ]
  },
  {
   "cell_type": "code",
   "execution_count": 33,
   "metadata": {},
   "outputs": [
    {
     "name": "stdout",
     "output_type": "stream",
     "text": [
      "L\n",
      "V\n",
      "Z\n",
      "P\n",
      "S\n",
      "T\n",
      "T\n",
      "C\n",
      "Z\n"
     ]
    }
   ],
   "source": [
    "# remove all crates at once\n",
    "\n",
    "for n in plan_numbers:\n",
    "    stacks[n[2]-1] += stacks[n[1]-1][len(stacks[n[1]-1])-n[0]:]\n",
    "    stacks[n[1]-1] = stacks[n[1]-1][:-n[0]]\n",
    "\n",
    "for n in stacks:\n",
    "    print(n[-1])"
   ]
  }
 ],
 "metadata": {
  "kernelspec": {
   "display_name": "Python 3 (ipykernel)",
   "language": "python",
   "name": "python3"
  },
  "language_info": {
   "codemirror_mode": {
    "name": "ipython",
    "version": 3
   },
   "file_extension": ".py",
   "mimetype": "text/x-python",
   "name": "python",
   "nbconvert_exporter": "python",
   "pygments_lexer": "ipython3",
   "version": "3.11.2"
  }
 },
 "nbformat": 4,
 "nbformat_minor": 2
}
